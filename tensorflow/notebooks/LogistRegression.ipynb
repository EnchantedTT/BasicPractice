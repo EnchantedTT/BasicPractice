{
 "cells": [
  {
   "cell_type": "code",
   "execution_count": 1,
   "metadata": {
    "collapsed": true
   },
   "outputs": [],
   "source": [
    "import tensorflow as tf"
   ]
  },
  {
   "cell_type": "code",
   "execution_count": 2,
   "metadata": {
    "collapsed": true
   },
   "outputs": [],
   "source": [
    "W = tf.Variable(tf.zeros([5, 1]), name='weights')\n",
    "b = tf.Variable(0., name='bias')\n",
    "\n",
    "def combine_inputs(X):\n",
    "    return tf.matmul(X, W) + b\n",
    "\n",
    "def inference(X):\n",
    "    #compute input X\n",
    "    return tf.sigmoid(combine_inputs(X))\n",
    "\n",
    "def loss(X, Y):\n",
    "    #compute loss\n",
    "    return = tf.reduce_mean(tf.nn.sigmoid_cross_entropy_with_logits(inference(X)))\n",
    "    \n",
    "def inputs():\n",
    "    #input data\n",
    "    pass\n",
    "def train(total_loss):\n",
    "    #train total loss\n",
    "    pass\n",
    "def evaluate(loss, X, Y):\n",
    "    #evaluate\n",
    "    pass"
   ]
  },
  {
   "cell_type": "code",
   "execution_count": null,
   "metadata": {
    "collapsed": true
   },
   "outputs": [],
   "source": [
    "with tf.Session() as sess:\n",
    "    tf.initialize_all_variables.run()\n",
    "    \n",
    "    X, Y = inputs()\n",
    "    total_loss = loss(X, Y)\n",
    "    train_op = train(total_loss)\n",
    "    coord = tf.train.Coordinator()\n",
    "    \n",
    "    threads = tf.train.start_queue_runners(sess=sess, coord=coord)\n",
    "    \n",
    "    training_steps = 10000\n",
    "    for step in range(training_steps):\n",
    "        sess.run([train_op])\n",
    "        if step % 10 == 0:\n",
    "            print 'loss: ', sess.run([total_loss])\n",
    "        evaluate(sess, X, Y)\n",
    "    \n",
    "    coord.request_stop()\n",
    "    coord.join(threads)\n",
    "    sess.close()"
   ]
  }
 ],
 "metadata": {
  "kernelspec": {
   "display_name": "Python 2",
   "language": "python",
   "name": "python2"
  },
  "language_info": {
   "codemirror_mode": {
    "name": "ipython",
    "version": 2
   },
   "file_extension": ".py",
   "mimetype": "text/x-python",
   "name": "python",
   "nbconvert_exporter": "python",
   "pygments_lexer": "ipython2",
   "version": "2.7.10"
  }
 },
 "nbformat": 4,
 "nbformat_minor": 0
}
