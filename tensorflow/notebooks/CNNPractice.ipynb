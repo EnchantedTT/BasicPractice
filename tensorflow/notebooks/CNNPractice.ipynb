{
 "cells": [
  {
   "cell_type": "code",
   "execution_count": 1,
   "metadata": {
    "collapsed": true
   },
   "outputs": [],
   "source": [
    "import tensorflow as tf"
   ]
  },
  {
   "cell_type": "code",
   "execution_count": 34,
   "metadata": {
    "collapsed": false
   },
   "outputs": [
    {
     "name": "stdout",
     "output_type": "stream",
     "text": [
      "[[[[ 1.5       ]\n",
      "   [ 1.79999995]]\n",
      "\n",
      "  [[ 1.5       ]\n",
      "   [ 1.70000005]]]]\n",
      "[[[[ 0.76666665]\n",
      "   [ 1.0666666 ]]\n",
      "\n",
      "  [[ 0.81666666]\n",
      "   [ 1.06666672]]]]\n"
     ]
    }
   ],
   "source": [
    "with tf.Session() as sess:\n",
    "    batch_size = 1\n",
    "    input_height = 3\n",
    "    input_width = 2\n",
    "    input_channels = 1\n",
    "    layer_input = tf.constant([\n",
    "            [\n",
    "                [[1.2],[0.2],[1.8]],\n",
    "                [[0.1],[1.0],[1.2]],\n",
    "                [[1.5],[0.6],[1.6]],\n",
    "                [[1.4],[0.3],[1.7]],\n",
    "            ]\n",
    "        ])\n",
    "    kernel = [batch_size, input_height, input_width, input_channels]\n",
    "    max_pool = tf.nn.max_pool(layer_input, kernel, [1,1,1,1], 'VALID')\n",
    "    avg_pool = tf.nn.avg_pool(layer_input, kernel, [1,1,1,1], 'VALID')\n",
    "    print sess.run(max_pool)\n",
    "    print sess.run(avg_pool)"
   ]
  },
  {
   "cell_type": "code",
   "execution_count": null,
   "metadata": {
    "collapsed": true
   },
   "outputs": [],
   "source": []
  }
 ],
 "metadata": {
  "kernelspec": {
   "display_name": "Python 2",
   "language": "python",
   "name": "python2"
  },
  "language_info": {
   "codemirror_mode": {
    "name": "ipython",
    "version": 2
   },
   "file_extension": ".py",
   "mimetype": "text/x-python",
   "name": "python",
   "nbconvert_exporter": "python",
   "pygments_lexer": "ipython2",
   "version": "2.7.10"
  }
 },
 "nbformat": 4,
 "nbformat_minor": 0
}
