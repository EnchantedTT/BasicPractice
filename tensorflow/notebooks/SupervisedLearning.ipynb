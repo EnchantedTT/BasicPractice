{
 "cells": [
  {
   "cell_type": "code",
   "execution_count": 1,
   "metadata": {
    "collapsed": true
   },
   "outputs": [],
   "source": [
    "import tensorflow as tf"
   ]
  },
  {
   "cell_type": "code",
   "execution_count": 2,
   "metadata": {
    "collapsed": false
   },
   "outputs": [],
   "source": [
    "def inference(X):\n",
    "    #compute input X\n",
    "    pass\n",
    "def loss(X, Y):\n",
    "    #compute loss\n",
    "    pass\n",
    "def inputs():\n",
    "    #input data\n",
    "    pass\n",
    "def train(total_loss):\n",
    "    #train total loss\n",
    "    pass\n",
    "def evaluate(loss, X, Y):\n",
    "    #evaluate\n",
    "    pass"
   ]
  },
  {
   "cell_type": "code",
   "execution_count": 4,
   "metadata": {
    "collapsed": false
   },
   "outputs": [],
   "source": [
    "with tf.Session() as sess:\n",
    "    #tf.initialize_all_variables.run()\n",
    "    \n",
    "    #X, Y = inputs()\n",
    "    #total_loss = loss(X, Y)\n",
    "    #train_op = train(total_loss)\n",
    "    #coord = tf.train.Coordinator()\n",
    "    \n",
    "    #threads = tf.train.start_queue_runners(sess=sess, coord=coord)\n",
    "    \n",
    "    #training_steps = 1000\n",
    "    #for step in range(training_steps):\n",
    "    #    sess.run([train_op])\n",
    "    #    if step % 10 == 0:\n",
    "    #        print 'loss: ', sess.run([total_loss])\n",
    "    #    evaluate(sess, X, Y)\n",
    "    \n",
    "    #coord.request_stop()\n",
    "    #coord.join(threads)\n",
    "    pass"
   ]
  },
  {
   "cell_type": "code",
   "execution_count": 40,
   "metadata": {
    "collapsed": false
   },
   "outputs": [
    {
     "name": "stdout",
     "output_type": "stream",
     "text": [
      "Tensor(\"Const_21:0\", shape=(2, 2), dtype=float32)\n",
      "[0 0 0 0 0 0 1 2 3 4]\n",
      "[ 0.04742587  0.11920292  0.26894143  0.5         0.7310586   0.88079703]\n",
      "[-0.99505472 -0.96402758 -0.76159418  0.          0.76159418  0.96402758]\n",
      "[[-0.14285715  0.42857146]\n",
      " [ 0.          1.42857146]]\n"
     ]
    }
   ],
   "source": [
    "with tf.Session() as sess:\n",
    "    feature_1 = tf.range(-5, 5)\n",
    "    feature_2 = tf.to_float(tf.range(-3, 3))\n",
    "    feature_3 = tf.constant([[-0.1,0.3],[0,1]])\n",
    "    print feature_3\n",
    "    print sess.run(tf.nn.relu(feature_1))\n",
    "    print sess.run(tf.sigmoid(feature_2))\n",
    "    print sess.run(tf.tanh(feature_2))\n",
    "    print sess.run(tf.nn.dropout(feature_3, keep_prob=0.7))"
   ]
  },
  {
   "cell_type": "code",
   "execution_count": 28,
   "metadata": {
    "collapsed": false
   },
   "outputs": [
    {
     "name": "stdout",
     "output_type": "stream",
     "text": [
      "[[[[  0.   0.]\n",
      "   [  1.   2.]]\n",
      "\n",
      "  [[  2.   4.]\n",
      "   [  3.   6.]]]\n",
      "\n",
      "\n",
      " [[[  2.   4.]\n",
      "   [  4.   8.]]\n",
      "\n",
      "  [[  6.  12.]\n",
      "   [  8.  16.]]]]\n"
     ]
    }
   ],
   "source": [
    "with tf.Session() as sess:\n",
    "    input_batch = tf.constant([[[[0.0],[1.0]],[[2.0],[3.0]]],[[[2.0],[4.0]],[[6.0],[8.0]]]])\n",
    "    kernel = tf.constant([[[[1.0,2.0]]]])\n",
    "    conv2d = tf.nn.conv2d(input_batch, kernel, strides=[1,1,1,1], padding='SAME')\n",
    "    print sess.run(conv2d)"
   ]
  },
  {
   "cell_type": "code",
   "execution_count": 35,
   "metadata": {
    "collapsed": false
   },
   "outputs": [
    {
     "name": "stdout",
     "output_type": "stream",
     "text": [
      "[[[[ 2.20000005]\n",
      "   [ 8.19999981]]\n",
      "\n",
      "  [[ 2.79999995]\n",
      "   [ 8.80000019]]]]\n"
     ]
    }
   ],
   "source": [
    "with tf.Session() as sess:\n",
    "    input_batch = tf.constant([\n",
    "            [\n",
    "                [[0.0], [1.0], [2.0], [3.0], [4.0], [5.0]],\n",
    "                [[0.1], [1.1], [2.1], [3.1], [4.1], [5.1]],\n",
    "                [[0.2], [1.2], [2.2], [3.2], [4.2], [5.2]],\n",
    "                [[0.3], [1.3], [2.3], [3.3], [4.3], [5.3]],\n",
    "                [[0.4], [1.4], [2.4], [3.4], [4.4], [5.4]],\n",
    "                [[0.5], [1.5], [2.5], [3.5], [4.5], [5.5]],\n",
    "            ],\n",
    "        ])\n",
    "    kernel = tf.constant([\n",
    "            [[[0.0]], [[0.5]], [[0.0]]],\n",
    "            [[[0.0]], [[1.0]], [[0.0]]],\n",
    "            [[[0.0]], [[0.5]], [[0.0]]]\n",
    "        ])\n",
    "    conv2d = tf.nn.conv2d(input_batch, kernel, strides=[1,3,3,1], padding='SAME')\n",
    "    print sess.run(conv2d)"
   ]
  },
  {
   "cell_type": "code",
   "execution_count": null,
   "metadata": {
    "collapsed": true
   },
   "outputs": [],
   "source": []
  }
 ],
 "metadata": {
  "kernelspec": {
   "display_name": "Python 2",
   "language": "python",
   "name": "python2"
  },
  "language_info": {
   "codemirror_mode": {
    "name": "ipython",
    "version": 2
   },
   "file_extension": ".py",
   "mimetype": "text/x-python",
   "name": "python",
   "nbconvert_exporter": "python",
   "pygments_lexer": "ipython2",
   "version": "2.7.10"
  }
 },
 "nbformat": 4,
 "nbformat_minor": 0
}
